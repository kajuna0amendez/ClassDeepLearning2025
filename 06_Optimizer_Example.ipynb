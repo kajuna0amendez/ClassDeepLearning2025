{
 "cells": [
  {
   "cell_type": "code",
   "execution_count": 2,
   "id": "a016349f-7009-44ed-933e-9cf43eda4dee",
   "metadata": {},
   "outputs": [],
   "source": [
    "# Import the necessary libraries\n",
    "import torch\n",
    "import torch.nn as nn\n",
    "# To plot the figure\n",
    "import matplotlib.pyplot as plt"
   ]
  },
  {
   "cell_type": "markdown",
   "id": "62a5735a-bfd2-49ca-9cf5-002002fdd8e5",
   "metadata": {},
   "source": [
    "# Ad-Hoc Optimizer"
   ]
  },
  {
   "cell_type": "code",
   "execution_count": 3,
   "id": "6fe93d86-fe4f-41bb-a084-c7afc2bceb8f",
   "metadata": {},
   "outputs": [],
   "source": [
    "# Import the necessary libraries\n",
    "import torch\n",
    "import torch.nn as nn\n",
    "\n",
    "# MomentumOptimizer\n",
    "class MomentumOptimizer(torch.optim.Optimizer):\n",
    "    \n",
    "    # Init Method:\n",
    "    def __init__(self, params, lr=1e-3, momentum=0.9):\n",
    "        super(MomentumOptimizer, self).__init__(params, defaults={'lr': lr})\n",
    "        self.momentum = momentum\n",
    "        self.state = dict()\n",
    "        for group in self.param_groups:\n",
    "            for p in group['params']:\n",
    "                self.state[p] = dict(mom=torch.zeros_like(p.data))\n",
    "    \n",
    "    # Step Method\n",
    "    def step(self):\n",
    "        for group in self.param_groups:\n",
    "            for p in group['params']:\n",
    "                if p not in self.state:\n",
    "                    self.state[p] = dict(mom=torch.zeros_like(p.data))\n",
    "                mom = self.state[p]['mom']\n",
    "                mom = self.momentum * mom - group['lr'] * p.grad.data\n",
    "                p.data += mom"
   ]
  },
  {
   "cell_type": "code",
   "execution_count": 4,
   "id": "20ff93ae-86dd-4398-8fbc-84ba29018ad8",
   "metadata": {},
   "outputs": [],
   "source": [
    "# Define a simple model\n",
    "model = nn.Linear(2, 2)\n",
    "\n",
    "# Define a loss function\n",
    "criterion = nn.MSELoss()\n",
    "\n",
    "# Define the optimizer\n",
    "optimizer = MomentumOptimizer(model.parameters(), lr=1e-3, momentum=0.9)"
   ]
  },
  {
   "cell_type": "code",
   "execution_count": 5,
   "id": "1dc59735-bce2-444e-933d-e548d4d5e397",
   "metadata": {},
   "outputs": [],
   "source": [
    "# Generate some random data\n",
    "X = torch.randn(100, 2)\n",
    "y = torch.randn(100, 2)"
   ]
  },
  {
   "cell_type": "code",
   "execution_count": 6,
   "id": "7c94d7c0-1c6f-4562-8fb5-8e90e39b58df",
   "metadata": {},
   "outputs": [
    {
     "data": {
      "image/png": "[encoded data removed]",
      "text/plain": [
       "<Figure size 640x480 with 1 Axes>"
      ]
     },
     "metadata": {},
     "output_type": "display_data"
    }
   ],
   "source": [
    "# Training loop\n",
    "for i in range(2500):\n",
    "    optimizer.zero_grad()\n",
    "    y_pred = model(X)\n",
    "    loss = criterion(y_pred, y)\n",
    "    \n",
    "    # Plot losses\n",
    "    if i%100 ==0:\n",
    "        plt.plot(i,loss.item(),'ro-')\n",
    "    \n",
    "    loss.backward()\n",
    "    optimizer.step()\n",
    "    \n",
    "plt.title('Losses over iterations')\n",
    "plt.xlabel('iterations')\n",
    "plt.ylabel('Losses')\n",
    "plt.show()"
   ]
  },
  {
   "cell_type": "code",
   "execution_count": null,
   "id": "d59c512c-5cc4-4aae-a29c-bffaa4378c09",
   "metadata": {},
   "outputs": [],
   "source": []
  }
 ],
 "metadata": {
  "kernelspec": {
   "display_name": "Python 3 (ipykernel)",
   "language": "python",
   "name": "python3"
  },
  "language_info": {
   "codemirror_mode": {
    "name": "ipython",
    "version": 3
   },
   "file_extension": ".py",
   "mimetype": "text/x-python",
   "name": "python",
   "nbconvert_exporter": "python",
   "pygments_lexer": "ipython3",
   "version": "3.11.10"
  }
 },
 "nbformat": 4,
 "nbformat_minor": 5
}
