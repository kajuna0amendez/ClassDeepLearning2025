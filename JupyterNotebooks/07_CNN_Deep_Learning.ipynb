{
 "cells": [
  {
   "cell_type": "markdown",
   "id": "d2631bc1-3784-46c4-a45f-cf836cebbee1",
   "metadata": {},
   "source": [
    "# Class CNN Definition"
   ]
  },
  {
   "cell_type": "code",
   "execution_count": 1,
   "id": "91dc2f4a-1636-410a-bd1c-b7379e4f9fe7",
   "metadata": {},
   "outputs": [],
   "source": [
    "import torch\n",
    "import torch.nn as nn\n",
    "import torch.nn.functional as F\n",
    "\n",
    "\n",
    "class MNIST_CNN(nn.Module):\n",
    "    def __init__(self):\n",
    "        super(MNIST_CNN, self).__init__()\n",
    "        # Convolutional layers\n",
    "        self.conv1 = nn.Conv2d(in_channels=1, out_channels=16, kernel_size=3, stride=1, padding=1)\n",
    "        self.conv2 = nn.Conv2d(in_channels=16, out_channels=32, kernel_size=3, stride=1, padding=1)\n",
    "\n",
    "        # Pooling layer\n",
    "        self.pool = nn.MaxPool2d(kernel_size=2, stride=2)\n",
    "\n",
    "        # Transposed Convolution Layer\n",
    "        self.tconv1 = nn.ConvTranspose2d(in_channels=32, out_channels=16, kernel_size=2, stride=2)\n",
    "        self.tconv2 = nn.ConvTranspose2d(in_channels=16, out_channels=1, kernel_size=2, stride=2)\n",
    "\n",
    "        # Fully connected layer\n",
    "        # After two pooling layers, the image size is reduced to 7x7\n",
    "        self.fc = nn.Linear(in_features=16*7*7, out_features=10)\n",
    "\n",
    "    def forward(self, x, show=True):\n",
    "        if show:\n",
    "            print(f'Input {x.shape}')\n",
    "        x = self.conv1(x)\n",
    "        x = F.relu(x)\n",
    "        x = self.pool(x)\n",
    "        if show:\n",
    "            print(f'After 1st pool {x.shape}')\n",
    "            self.x_1 = x\n",
    "\n",
    "        x = self.conv2(x)\n",
    "        x = F.relu(x)\n",
    "        x = self.pool(x)\n",
    "        if show:\n",
    "            print(f'After 2nd pool {x.shape}')\n",
    "            self.x_2 = x\n",
    "\n",
    "        # Upsample the feature map before passing it to the fully connected layer\n",
    "        x = self.tconv1(x)\n",
    "        x = F.relu(x)\n",
    "        if show:\n",
    "            print(f'After transpose convolution {x.shape}')\n",
    "            self.x_3 = x\n",
    "        \n",
    "        x = self.tconv2(x)\n",
    "        x = F.relu(x)\n",
    "        if show:\n",
    "            print(f'After second transpose convolution {x.shape}')\n",
    "            self.x_4 = x\n",
    "\n",
    "        # Flatten the tensor for the fully connected layer\n",
    "        x = x.view(-1, 16*7*7)\n",
    "        x = self.fc(x)\n",
    "        self.x_5 = x\n",
    "        return x"
   ]
  },
  {
   "cell_type": "markdown",
   "id": "ecc24312-a74c-4077-8384-c8a8686583f5",
   "metadata": {},
   "source": [
    "# Testing of basic stuff"
   ]
  },
  {
   "cell_type": "code",
   "execution_count": 2,
   "id": "45ca47ff-d960-4e8d-b071-c263bc6e2153",
   "metadata": {},
   "outputs": [],
   "source": [
    "import torchvision\n",
    "from torchvision import datasets, transforms"
   ]
  },
  {
   "cell_type": "code",
   "execution_count": 3,
   "id": "c53f9655-c35e-40a6-b83a-b64ff03d9dd5",
   "metadata": {},
   "outputs": [],
   "source": [
    "transform = transforms.Compose([\n",
    "    transforms.ToTensor(),\n",
    "    transforms.Normalize((0.5,), (0.5,))  # Normalize the images to [-1, 1]\n",
    "])"
   ]
  },
  {
   "cell_type": "code",
   "execution_count": 4,
   "id": "6d973543-1f16-421d-a61c-39e0460d175a",
   "metadata": {},
   "outputs": [],
   "source": [
    "train_dataset = datasets.MNIST(root='data', train=True, download=True, transform=transform)"
   ]
  },
  {
   "cell_type": "code",
   "execution_count": 5,
   "id": "2ee003b1-720a-41d7-918e-bc968f34d6ff",
   "metadata": {},
   "outputs": [],
   "source": [
    "train_loader = torch.utils.data.DataLoader(train_dataset, batch_size=32, shuffle=True)"
   ]
  },
  {
   "cell_type": "code",
   "execution_count": 6,
   "id": "d6310669-1b0d-48ed-ac7d-ac6f30d7c838",
   "metadata": {},
   "outputs": [
    {
     "data": {
      "image/png": "[encoded data removed]",
      "text/plain": [
       "<Figure size 640x480 with 1 Axes>"
      ]
     },
     "metadata": {},
     "output_type": "display_data"
    }
   ],
   "source": [
    "import matplotlib.pyplot as plt\n",
    "\n",
    "# Get a single batch of images\n",
    "images, labels = next(iter(train_loader))\n",
    "\n",
    "# Visualize the first image in the batch\n",
    "plt.imshow(images[0].squeeze(), cmap='gray')\n",
    "plt.title(f'Label: {labels[0]}')\n",
    "plt.show()"
   ]
  },
  {
   "cell_type": "code",
   "execution_count": 7,
   "id": "0df44382-3f78-4a26-84c8-95038575dfbe",
   "metadata": {},
   "outputs": [],
   "source": [
    "Test_Image = images[0].unsqueeze(1)"
   ]
  },
  {
   "cell_type": "code",
   "execution_count": 8,
   "id": "aeb6d2f3-2f0f-4a15-88e4-de64a00d1ace",
   "metadata": {},
   "outputs": [
    {
     "data": {
      "text/plain": [
       "torch.Size([32, 1, 28, 28])"
      ]
     },
     "execution_count": 8,
     "metadata": {},
     "output_type": "execute_result"
    }
   ],
   "source": [
    "images.shape"
   ]
  },
  {
   "cell_type": "code",
   "execution_count": 9,
   "id": "f45211c6-261a-4a29-9620-8d2093299a61",
   "metadata": {},
   "outputs": [
    {
     "data": {
      "text/plain": [
       "torch.Size([1, 1, 28, 28])"
      ]
     },
     "execution_count": 9,
     "metadata": {},
     "output_type": "execute_result"
    }
   ],
   "source": [
    "Test_Image.shape"
   ]
  },
  {
   "cell_type": "code",
   "execution_count": 10,
   "id": "0ce4a439-bcec-4a33-a3b0-712ab7092fca",
   "metadata": {},
   "outputs": [],
   "source": [
    "model = MNIST_CNN()"
   ]
  },
  {
   "cell_type": "code",
   "execution_count": 11,
   "id": "89e95922-ccf3-4ce2-a28d-39d6fec2efc9",
   "metadata": {},
   "outputs": [
    {
     "name": "stdout",
     "output_type": "stream",
     "text": [
      "Input torch.Size([1, 1, 28, 28])\n",
      "After 1st pool torch.Size([1, 16, 14, 14])\n",
      "After 2nd pool torch.Size([1, 32, 7, 7])\n",
      "After transpose convolution torch.Size([1, 16, 14, 14])\n",
      "After second transpose convolution torch.Size([1, 1, 28, 28])\n"
     ]
    }
   ],
   "source": [
    "output = model.forward(Test_Image)"
   ]
  },
  {
   "cell_type": "code",
   "execution_count": 12,
   "id": "74479d32-7924-4e04-b27d-20e81ba07120",
   "metadata": {},
   "outputs": [
    {
     "data": {
      "text/plain": [
       "torch.Size([1, 10])"
      ]
     },
     "execution_count": 12,
     "metadata": {},
     "output_type": "execute_result"
    }
   ],
   "source": [
    "output.shape"
   ]
  },
  {
   "cell_type": "code",
   "execution_count": 13,
   "id": "8106f715-a6fc-4dde-be44-7fcff02ae513",
   "metadata": {},
   "outputs": [
    {
     "data": {
      "text/plain": [
       "array([-0.01724716,  0.34685868, -0.05771452,  0.01312018,  0.15056135,\n",
       "       -0.08066823,  0.27245307,  0.3857359 ,  0.149295  ,  0.28089058],\n",
       "      dtype=float32)"
      ]
     },
     "execution_count": 13,
     "metadata": {},
     "output_type": "execute_result"
    }
   ],
   "source": [
    "# Visualize the first image in the batch\n",
    "#plt.imshow(output[0].squeeze().detach().numpy() , cmap='gray')\n",
    "#plt.title(f'Label: {labels[0]}')\n",
    "#plt.show()\n",
    "output[0].squeeze().detach().numpy()"
   ]
  },
  {
   "cell_type": "code",
   "execution_count": 14,
   "id": "dca673ee-fbb9-4f64-ac47-f5ddcac7089f",
   "metadata": {},
   "outputs": [
    {
     "data": {
      "text/plain": [
       "tensor([[-0.0172,  0.3469, -0.0577,  0.0131,  0.1506, -0.0807,  0.2725,  0.3857,\n",
       "          0.1493,  0.2809]], grad_fn=<AddmmBackward0>)"
      ]
     },
     "execution_count": 14,
     "metadata": {},
     "output_type": "execute_result"
    }
   ],
   "source": [
    "output"
   ]
  },
  {
   "cell_type": "code",
   "execution_count": 15,
   "id": "43edea9a-c5b2-4e72-aea1-f61136410cf0",
   "metadata": {},
   "outputs": [],
   "source": [
    "x_1 = model.x_1.detach()"
   ]
  },
  {
   "cell_type": "code",
   "execution_count": 16,
   "id": "c8cef0bb-fbbc-417f-86d3-b536602b7a6f",
   "metadata": {},
   "outputs": [],
   "source": [
    "x_1_c_1 = x_1[0,2,:,:]"
   ]
  },
  {
   "cell_type": "code",
   "execution_count": 17,
   "id": "fadaea48-51f8-4ada-9e82-63822413865c",
   "metadata": {},
   "outputs": [],
   "source": [
    "\n",
    "x_1_c_1 = x_1_c_1.numpy()\n"
   ]
  },
  {
   "cell_type": "code",
   "execution_count": 18,
   "id": "a54a947e-d32d-4bcd-b4c0-68e4dc17dd5d",
   "metadata": {},
   "outputs": [
    {
     "data": {
      "image/png": "[encoded data removed]",
      "text/plain": [
       "<Figure size 640x480 with 1 Axes>"
      ]
     },
     "metadata": {},
     "output_type": "display_data"
    }
   ],
   "source": [
    "# Visualize the first image in the batch\n",
    "plt.imshow(x_1_c_1, cmap='gray')\n",
    "plt.show()"
   ]
  },
  {
   "cell_type": "code",
   "execution_count": 19,
   "id": "d1a7d698-56f2-4898-a3da-01b8e4513f4c",
   "metadata": {},
   "outputs": [],
   "source": [
    "import numpy as np\n",
    "image = np.zeros((14, 14))\n",
    "for idx in range(16):\n",
    "    image = image + x_1[0,idx,:,:].numpy()"
   ]
  },
  {
   "cell_type": "code",
   "execution_count": 20,
   "id": "173e3bf0-49a5-4261-b754-66f6b9649644",
   "metadata": {},
   "outputs": [
    {
     "data": {
      "image/png": "[encoded data removed]",
      "text/plain": [
       "<Figure size 640x480 with 1 Axes>"
      ]
     },
     "metadata": {},
     "output_type": "display_data"
    }
   ],
   "source": [
    "# Visualize the first image in the batch\n",
    "plt.imshow(image, cmap='gray')\n",
    "plt.show()"
   ]
  },
  {
   "cell_type": "code",
   "execution_count": 21,
   "id": "4b94df76-a18b-475a-a778-f63f69810cb0",
   "metadata": {},
   "outputs": [],
   "source": [
    "x_4 = model.x_4.detach()"
   ]
  },
  {
   "cell_type": "code",
   "execution_count": 22,
   "id": "d5c08b9f-71bc-4242-b78a-23a7d61b4a50",
   "metadata": {},
   "outputs": [
    {
     "data": {
      "text/plain": [
       "torch.Size([1, 1, 28, 28])"
      ]
     },
     "execution_count": 22,
     "metadata": {},
     "output_type": "execute_result"
    }
   ],
   "source": [
    "x_4.shape"
   ]
  },
  {
   "cell_type": "code",
   "execution_count": 23,
   "id": "5c9ed37e-cb7a-413f-bcaf-62a865fc88af",
   "metadata": {},
   "outputs": [],
   "source": [
    "x_4_c_1 = x_4[0,0,:,:]"
   ]
  },
  {
   "cell_type": "code",
   "execution_count": 24,
   "id": "7844e916-0ff4-4f22-a4e1-c545ffd1e705",
   "metadata": {},
   "outputs": [
    {
     "data": {
      "image/png": "[encoded data removed]",
      "text/plain": [
       "<Figure size 640x480 with 1 Axes>"
      ]
     },
     "metadata": {},
     "output_type": "display_data"
    }
   ],
   "source": [
    "# Visualize the first image in the batch\n",
    "plt.imshow(x_4_c_1, cmap='gray')\n",
    "plt.show()"
   ]
  },
  {
   "cell_type": "code",
   "execution_count": 25,
   "id": "aceaadcf-4f6e-4e54-891b-048ac3094e3a",
   "metadata": {},
   "outputs": [
    {
     "data": {
      "image/png": "[encoded data removed]",
      "text/plain": [
       "<Figure size 640x480 with 1 Axes>"
      ]
     },
     "metadata": {},
     "output_type": "display_data"
    }
   ],
   "source": [
    "# Visualize the first image in the batch\n",
    "plt.imshow(images[0].squeeze(), cmap='gray')\n",
    "plt.title(f'Label: {labels[0]}')\n",
    "plt.show()"
   ]
  },
  {
   "cell_type": "markdown",
   "id": "d37ec5a3-9afd-497a-be26-b896da30300a",
   "metadata": {},
   "source": [
    "# Train"
   ]
  },
  {
   "cell_type": "code",
   "execution_count": 26,
   "id": "a9757b95-7e73-42d0-848f-10dbef000c19",
   "metadata": {},
   "outputs": [],
   "source": [
    "\n",
    "import torch\n",
    "import torchvision\n",
    "import torchvision.transforms as transforms\n",
    "import torch.nn as nn\n",
    "import torch.optim as optim\n",
    "\n",
    "# Define the transformation to apply to the data\n",
    "transform = transforms.Compose([\n",
    "    transforms.ToTensor(),  # Convert images to tensors\n",
    "    transforms.Normalize((0.5,), (0.5,))  # Normalize the pixel values\n",
    "])\n",
    "\n",
    "trainset = torchvision.datasets.MNIST(root='./data', train=True, download=True, transform=transform)\n",
    "trainloader = torch.utils.data.DataLoader(trainset, batch_size=64, shuffle=True)"
   ]
  },
  {
   "cell_type": "code",
   "execution_count": 27,
   "id": "2f7b7836-7759-4826-9692-ba6a9cd2c3e6",
   "metadata": {},
   "outputs": [],
   "source": [
    "import torch\n",
    "import torch.nn as nn\n",
    "import torch.nn.functional as F\n",
    "\n",
    "\n",
    "class MNIST_CNN_TRAIN(nn.Module):\n",
    "    def __init__(self):\n",
    "        super(MNIST_CNN_TRAIN, self).__init__()\n",
    "        # Convolutional layers\n",
    "        self.conv1 = nn.Conv2d(in_channels=1, out_channels=16, kernel_size=3, stride=1, padding=1)\n",
    "        self.conv2 = nn.Conv2d(in_channels=16, out_channels=32, kernel_size=3, stride=1, padding=1)\n",
    "\n",
    "        # Pooling layer\n",
    "        self.pool = nn.MaxPool2d(kernel_size=2, stride=2)\n",
    "\n",
    "        # Transposed Convolution Layer\n",
    "        self.tconv1 = nn.ConvTranspose2d(in_channels=32, out_channels=16, kernel_size=2, stride=2)\n",
    "        self.tconv2 = nn.ConvTranspose2d(in_channels=16, out_channels=1, kernel_size=2, stride=2)\n",
    "\n",
    "        # Fully connected layer\n",
    "        # After two pooling layers, the image size is reduced to 7x7\n",
    "        self.fc = nn.Linear(in_features=16*7*7, out_features=10)\n",
    "\n",
    "    def forward(self, x):\n",
    "        x = self.conv1(x)\n",
    "        x = F.relu(x)\n",
    "        x = self.pool(x)\n",
    "\n",
    "        x = self.conv2(x)\n",
    "        x = F.relu(x)\n",
    "        x = self.pool(x)\n",
    "\n",
    "        # Upsample the feature map before passing it to the fully connected layer\n",
    "        x = self.tconv1(x)\n",
    "        x = F.relu(x)\n",
    "        \n",
    "        x = self.tconv2(x)\n",
    "        x = F.relu(x)\n",
    "\n",
    "        # Flatten the tensor for the fully connected layer\n",
    "        x = x.view(-1, 16*7*7)\n",
    "        x = self.fc(x)\n",
    "        self.x_5 = x\n",
    "        return x"
   ]
  },
  {
   "cell_type": "code",
   "execution_count": 28,
   "id": "36811a43-f28a-4fc7-b971-157177f83f98",
   "metadata": {},
   "outputs": [],
   "source": [
    "model = MNIST_CNN_TRAIN()"
   ]
  },
  {
   "cell_type": "code",
   "execution_count": 29,
   "id": "1da05b49-b5af-4288-bcd2-a9b1e6ebf87e",
   "metadata": {},
   "outputs": [
    {
     "name": "stdout",
     "output_type": "stream",
     "text": [
      "[1,   100] loss: 1.487\n",
      "[1,   200] loss: 0.402\n",
      "[1,   300] loss: 0.262\n",
      "[1,   400] loss: 0.162\n",
      "[1,   500] loss: 0.138\n",
      "[1,   600] loss: 0.107\n",
      "[1,   700] loss: 0.114\n",
      "[1,   800] loss: 0.110\n",
      "[1,   900] loss: 0.091\n",
      "[2,   100] loss: 0.084\n",
      "[2,   200] loss: 0.080\n",
      "[2,   300] loss: 0.077\n",
      "[2,   400] loss: 0.070\n",
      "[2,   500] loss: 0.068\n",
      "[2,   600] loss: 0.066\n",
      "[2,   700] loss: 0.070\n",
      "[2,   800] loss: 0.068\n",
      "[2,   900] loss: 0.071\n",
      "[3,   100] loss: 0.057\n",
      "[3,   200] loss: 0.058\n",
      "[3,   300] loss: 0.055\n",
      "[3,   400] loss: 0.062\n",
      "[3,   500] loss: 0.056\n",
      "[3,   600] loss: 0.060\n",
      "[3,   700] loss: 0.051\n",
      "[3,   800] loss: 0.049\n",
      "[3,   900] loss: 0.057\n",
      "[4,   100] loss: 0.044\n",
      "[4,   200] loss: 0.054\n",
      "[4,   300] loss: 0.049\n",
      "[4,   400] loss: 0.050\n",
      "[4,   500] loss: 0.057\n",
      "[4,   600] loss: 0.046\n",
      "[4,   700] loss: 0.044\n",
      "[4,   800] loss: 0.040\n",
      "[4,   900] loss: 0.043\n",
      "[5,   100] loss: 0.036\n",
      "[5,   200] loss: 0.038\n",
      "[5,   300] loss: 0.042\n",
      "[5,   400] loss: 0.039\n",
      "[5,   500] loss: 0.043\n",
      "[5,   600] loss: 0.047\n",
      "[5,   700] loss: 0.047\n",
      "[5,   800] loss: 0.039\n",
      "[5,   900] loss: 0.043\n",
      "[6,   100] loss: 0.031\n",
      "[6,   200] loss: 0.034\n",
      "[6,   300] loss: 0.035\n",
      "[6,   400] loss: 0.036\n",
      "[6,   500] loss: 0.037\n",
      "[6,   600] loss: 0.036\n",
      "[6,   700] loss: 0.034\n",
      "[6,   800] loss: 0.039\n",
      "[6,   900] loss: 0.045\n",
      "[7,   100] loss: 0.034\n",
      "[7,   200] loss: 0.035\n",
      "[7,   300] loss: 0.032\n",
      "[7,   400] loss: 0.030\n",
      "[7,   500] loss: 0.040\n",
      "[7,   600] loss: 0.031\n",
      "[7,   700] loss: 0.036\n",
      "[7,   800] loss: 0.039\n",
      "[7,   900] loss: 0.038\n",
      "[8,   100] loss: 0.023\n",
      "[8,   200] loss: 0.029\n",
      "[8,   300] loss: 0.032\n",
      "[8,   400] loss: 0.041\n",
      "[8,   500] loss: 0.029\n",
      "[8,   600] loss: 0.031\n",
      "[8,   700] loss: 0.027\n",
      "[8,   800] loss: 0.032\n",
      "[8,   900] loss: 0.031\n",
      "[9,   100] loss: 0.024\n",
      "[9,   200] loss: 0.025\n",
      "[9,   300] loss: 0.024\n",
      "[9,   400] loss: 0.026\n",
      "[9,   500] loss: 0.023\n",
      "[9,   600] loss: 0.041\n",
      "[9,   700] loss: 0.029\n",
      "[9,   800] loss: 0.024\n",
      "[9,   900] loss: 0.029\n",
      "[10,   100] loss: 0.018\n",
      "[10,   200] loss: 0.021\n",
      "[10,   300] loss: 0.024\n",
      "[10,   400] loss: 0.031\n",
      "[10,   500] loss: 0.032\n",
      "[10,   600] loss: 0.023\n",
      "[10,   700] loss: 0.025\n",
      "[10,   800] loss: 0.023\n",
      "[10,   900] loss: 0.031\n",
      "Finished Training\n"
     ]
    }
   ],
   "source": [
    "criterion = nn.CrossEntropyLoss()\n",
    "optimizer = optim.Adam(model.parameters(), lr=0.001)\n",
    "\n",
    "# Train the model\n",
    "for epoch in range(10):  # Number of epochs\n",
    "    running_loss = 0.0\n",
    "    for i, data in enumerate(trainloader, 0):\n",
    "        inputs, labels = data\n",
    "        optimizer.zero_grad()\n",
    "        outputs = model(inputs)\n",
    "        loss = criterion(outputs, labels)\n",
    "        loss.backward()\n",
    "        optimizer.step()\n",
    "        running_loss += loss.item()\n",
    "        if i % 100 == 99:  # Print every 100 mini-batches\n",
    "            print('[%d, %5d] loss: %.3f' % (epoch + 1, i + 1, running_loss / 100))\n",
    "            running_loss = 0.0\n",
    "\n",
    "print('Finished Training')\n"
   ]
  },
  {
   "cell_type": "code",
   "execution_count": 30,
   "id": "a6d0acb9-6c8c-46f9-ae55-0fec4f7ece25",
   "metadata": {},
   "outputs": [
    {
     "data": {
      "text/plain": [
       "tensor([[ -2.4210, -10.1726, -14.1140, -10.9512,  -0.6555,   1.9432,   5.1296,\n",
       "         -10.5925,   2.9211,  -8.0372]], grad_fn=<AddmmBackward0>)"
      ]
     },
     "execution_count": 30,
     "metadata": {},
     "output_type": "execute_result"
    }
   ],
   "source": [
    "model(Test_Image)"
   ]
  },
  {
   "cell_type": "code",
   "execution_count": 31,
   "id": "429088e2-c666-4758-a1c7-7edf06d63f09",
   "metadata": {},
   "outputs": [],
   "source": [
    "from torchviz import make_dot"
   ]
  },
  {
   "cell_type": "code",
   "execution_count": 32,
   "id": "ff568220-7080-4ffd-a1f9-91ae6de7d220",
   "metadata": {},
   "outputs": [
    {
     "data": {
      "image/svg+xml": [
       "<?xml version=\"1.0\" encoding=\"UTF-8\" standalone=\"no\"?>\n",
       "<!DOCTYPE svg PUBLIC \"-//W3C//DTD SVG 1.1//EN\"\n",
       " \"http://www.w3.org/Graphics/SVG/1.1/DTD/svg11.dtd\">\n",
       "<!-- Generated by graphviz version 2.43.0 (0)\n",
       " -->\n",
       "<!-- Title: %3 Pages: 1 -->\n",
       "<svg width=\"660pt\" height=\"864pt\"\n",
       " viewBox=\"0.00 0.00 660.50 864.00\" xmlns=\"http://www.w3.org/2000/svg\" xmlns:xlink=\"http://www.w3.org/1999/xlink\">\n",
       "<g id=\"graph0\" class=\"graph\" transform=\"scale(0.88 0.88) rotate(0) translate(4 981)\">\n",
       "<title>%3</title>\n",
       "<polygon fill=\"white\" stroke=\"transparent\" points=\"-4,4 -4,-981 749,-981 749,4 -4,4\"/>\n",
       "<!-- 123961477063280 -->\n",
       "<g id=\"node1\" class=\"node\">\n",
       "<title>123961477063280</title>\n",
       "<polygon fill=\"#caff70\" stroke=\"black\" points=\"615.5,-31 561.5,-31 561.5,0 615.5,0 615.5,-31\"/>\n",
       "<text text-anchor=\"middle\" x=\"588.5\" y=\"-7\" font-family=\"monospace\" font-size=\"10.00\"> ()</text>\n",
       "</g>\n",
       "<!-- 123961477388928 -->\n",
       "<g id=\"node2\" class=\"node\">\n",
       "<title>123961477388928</title>\n",
       "<polygon fill=\"lightgrey\" stroke=\"black\" points=\"645,-86 532,-86 532,-67 645,-67 645,-86\"/>\n",
       "<text text-anchor=\"middle\" x=\"588.5\" y=\"-74\" font-family=\"monospace\" font-size=\"10.00\">NllLossBackward0</text>\n",
       "</g>\n",
       "<!-- 123961477388928&#45;&gt;123961477063280 -->\n",
       "<g id=\"edge35\" class=\"edge\">\n",
       "<title>123961477388928&#45;&gt;123961477063280</title>\n",
       "<path fill=\"none\" stroke=\"black\" d=\"M588.5,-66.79C588.5,-60.07 588.5,-50.4 588.5,-41.34\"/>\n",
       "<polygon fill=\"black\" stroke=\"black\" points=\"592,-41.19 588.5,-31.19 585,-41.19 592,-41.19\"/>\n",
       "</g>\n",
       "<!-- 123961477389072 -->\n",
       "<g id=\"node3\" class=\"node\">\n",
       "<title>123961477389072</title>\n",
       "<polygon fill=\"lightgrey\" stroke=\"black\" points=\"654,-141 523,-141 523,-122 654,-122 654,-141\"/>\n",
       "<text text-anchor=\"middle\" x=\"588.5\" y=\"-129\" font-family=\"monospace\" font-size=\"10.00\">LogSoftmaxBackward0</text>\n",
       "</g>\n",
       "<!-- 123961477389072&#45;&gt;123961477388928 -->\n",
       "<g id=\"edge1\" class=\"edge\">\n",
       "<title>123961477389072&#45;&gt;123961477388928</title>\n",
       "<path fill=\"none\" stroke=\"black\" d=\"M588.5,-121.75C588.5,-114.8 588.5,-104.85 588.5,-96.13\"/>\n",
       "<polygon fill=\"black\" stroke=\"black\" points=\"592,-96.09 588.5,-86.09 585,-96.09 592,-96.09\"/>\n",
       "</g>\n",
       "<!-- 123961477389984 -->\n",
       "<g id=\"node4\" class=\"node\">\n",
       "<title>123961477389984</title>\n",
       "<polygon fill=\"lightgrey\" stroke=\"black\" points=\"639,-196 538,-196 538,-177 639,-177 639,-196\"/>\n",
       "<text text-anchor=\"middle\" x=\"588.5\" y=\"-184\" font-family=\"monospace\" font-size=\"10.00\">AddmmBackward0</text>\n",
       "</g>\n",
       "<!-- 123961477389984&#45;&gt;123961477389072 -->\n",
       "<g id=\"edge2\" class=\"edge\">\n",
       "<title>123961477389984&#45;&gt;123961477389072</title>\n",
       "<path fill=\"none\" stroke=\"black\" d=\"M588.5,-176.75C588.5,-169.8 588.5,-159.85 588.5,-151.13\"/>\n",
       "<polygon fill=\"black\" stroke=\"black\" points=\"592,-151.09 588.5,-141.09 585,-151.09 592,-151.09\"/>\n",
       "</g>\n",
       "<!-- 123961477390032 -->\n",
       "<g id=\"node5\" class=\"node\">\n",
       "<title>123961477390032</title>\n",
       "<polygon fill=\"lightgrey\" stroke=\"black\" points=\"523,-251 422,-251 422,-232 523,-232 523,-251\"/>\n",
       "<text text-anchor=\"middle\" x=\"472.5\" y=\"-239\" font-family=\"monospace\" font-size=\"10.00\">AccumulateGrad</text>\n",
       "</g>\n",
       "<!-- 123961477390032&#45;&gt;123961477389984 -->\n",
       "<g id=\"edge3\" class=\"edge\">\n",
       "<title>123961477390032&#45;&gt;123961477389984</title>\n",
       "<path fill=\"none\" stroke=\"black\" d=\"M491.14,-231.98C509.8,-223.46 538.75,-210.23 560.24,-200.41\"/>\n",
       "<polygon fill=\"black\" stroke=\"black\" points=\"561.88,-203.51 569.52,-196.17 558.97,-197.14 561.88,-203.51\"/>\n",
       "</g>\n",
       "<!-- 123961477068176 -->\n",
       "<g id=\"node6\" class=\"node\">\n",
       "<title>123961477068176</title>\n",
       "<polygon fill=\"lightblue\" stroke=\"black\" points=\"502,-317 443,-317 443,-287 502,-287 502,-317\"/>\n",
       "<text text-anchor=\"middle\" x=\"472.5\" y=\"-305\" font-family=\"monospace\" font-size=\"10.00\">fc.bias</text>\n",
       "<text text-anchor=\"middle\" x=\"472.5\" y=\"-294\" font-family=\"monospace\" font-size=\"10.00\"> (10)</text>\n",
       "</g>\n",
       "<!-- 123961477068176&#45;&gt;123961477390032 -->\n",
       "<g id=\"edge4\" class=\"edge\">\n",
       "<title>123961477068176&#45;&gt;123961477390032</title>\n",
       "<path fill=\"none\" stroke=\"black\" d=\"M472.5,-286.84C472.5,-279.21 472.5,-269.7 472.5,-261.45\"/>\n",
       "<polygon fill=\"black\" stroke=\"black\" points=\"476,-261.27 472.5,-251.27 469,-261.27 476,-261.27\"/>\n",
       "</g>\n",
       "<!-- 123961477389024 -->\n",
       "<g id=\"node7\" class=\"node\">\n",
       "<title>123961477389024</title>\n",
       "<polygon fill=\"lightgrey\" stroke=\"black\" points=\"636,-251 541,-251 541,-232 636,-232 636,-251\"/>\n",
       "<text text-anchor=\"middle\" x=\"588.5\" y=\"-239\" font-family=\"monospace\" font-size=\"10.00\">ViewBackward0</text>\n",
       "</g>\n",
       "<!-- 123961477389024&#45;&gt;123961477389984 -->\n",
       "<g id=\"edge5\" class=\"edge\">\n",
       "<title>123961477389024&#45;&gt;123961477389984</title>\n",
       "<path fill=\"none\" stroke=\"black\" d=\"M588.5,-231.75C588.5,-224.8 588.5,-214.85 588.5,-206.13\"/>\n",
       "<polygon fill=\"black\" stroke=\"black\" points=\"592,-206.09 588.5,-196.09 585,-206.09 592,-206.09\"/>\n",
       "</g>\n",
       "<!-- 123961477388496 -->\n",
       "<g id=\"node8\" class=\"node\">\n",
       "<title>123961477388496</title>\n",
       "<polygon fill=\"lightgrey\" stroke=\"black\" points=\"619,-311.5 524,-311.5 524,-292.5 619,-292.5 619,-311.5\"/>\n",
       "<text text-anchor=\"middle\" x=\"571.5\" y=\"-299.5\" font-family=\"monospace\" font-size=\"10.00\">ReluBackward0</text>\n",
       "</g>\n",
       "<!-- 123961477388496&#45;&gt;123961477389024 -->\n",
       "<g id=\"edge6\" class=\"edge\">\n",
       "<title>123961477388496&#45;&gt;123961477389024</title>\n",
       "<path fill=\"none\" stroke=\"black\" d=\"M574.01,-292.37C576.39,-284.16 580.06,-271.54 583.11,-261.05\"/>\n",
       "<polygon fill=\"black\" stroke=\"black\" points=\"586.55,-261.75 585.98,-251.17 579.83,-259.79 586.55,-261.75\"/>\n",
       "</g>\n",
       "<!-- 123961477387632 -->\n",
       "<g id=\"node9\" class=\"node\">\n",
       "<title>123961477387632</title>\n",
       "<polygon fill=\"lightgrey\" stroke=\"black\" points=\"638,-377.5 501,-377.5 501,-358.5 638,-358.5 638,-377.5\"/>\n",
       "<text text-anchor=\"middle\" x=\"569.5\" y=\"-365.5\" font-family=\"monospace\" font-size=\"10.00\">ConvolutionBackward0</text>\n",
       "</g>\n",
       "<!-- 123961477387632&#45;&gt;123961477388496 -->\n",
       "<g id=\"edge7\" class=\"edge\">\n",
       "<title>123961477387632&#45;&gt;123961477388496</title>\n",
       "<path fill=\"none\" stroke=\"black\" d=\"M569.77,-358.37C570.06,-349.16 570.52,-334.29 570.9,-322.27\"/>\n",
       "<polygon fill=\"black\" stroke=\"black\" points=\"574.41,-322.01 571.22,-311.91 567.41,-321.79 574.41,-322.01\"/>\n",
       "</g>\n",
       "<!-- 123961477387536 -->\n",
       "<g id=\"node10\" class=\"node\">\n",
       "<title>123961477387536</title>\n",
       "<polygon fill=\"lightgrey\" stroke=\"black\" points=\"493,-438 398,-438 398,-419 493,-419 493,-438\"/>\n",
       "<text text-anchor=\"middle\" x=\"445.5\" y=\"-426\" font-family=\"monospace\" font-size=\"10.00\">ReluBackward0</text>\n",
       "</g>\n",
       "<!-- 123961477387536&#45;&gt;123961477387632 -->\n",
       "<g id=\"edge8\" class=\"edge\">\n",
       "<title>123961477387536&#45;&gt;123961477387632</title>\n",
       "<path fill=\"none\" stroke=\"black\" d=\"M463.53,-418.99C484.19,-409.25 518.28,-393.16 542.2,-381.88\"/>\n",
       "<polygon fill=\"black\" stroke=\"black\" points=\"543.9,-384.95 551.45,-377.52 540.91,-378.62 543.9,-384.95\"/>\n",
       "</g>\n",
       "<!-- 123961477389696 -->\n",
       "<g id=\"node11\" class=\"node\">\n",
       "<title>123961477389696</title>\n",
       "<polygon fill=\"lightgrey\" stroke=\"black\" points=\"506,-498.5 369,-498.5 369,-479.5 506,-479.5 506,-498.5\"/>\n",
       "<text text-anchor=\"middle\" x=\"437.5\" y=\"-486.5\" font-family=\"monospace\" font-size=\"10.00\">ConvolutionBackward0</text>\n",
       "</g>\n",
       "<!-- 123961477389696&#45;&gt;123961477387536 -->\n",
       "<g id=\"edge9\" class=\"edge\">\n",
       "<title>123961477389696&#45;&gt;123961477387536</title>\n",
       "<path fill=\"none\" stroke=\"black\" d=\"M438.68,-479.37C439.79,-471.25 441.49,-458.81 442.92,-448.39\"/>\n",
       "<polygon fill=\"black\" stroke=\"black\" points=\"446.43,-448.55 444.31,-438.17 439.49,-447.6 446.43,-448.55\"/>\n",
       "</g>\n",
       "<!-- 123961477389792 -->\n",
       "<g id=\"node12\" class=\"node\">\n",
       "<title>123961477389792</title>\n",
       "<polygon fill=\"lightgrey\" stroke=\"black\" points=\"369,-559 178,-559 178,-540 369,-540 369,-559\"/>\n",
       "<text text-anchor=\"middle\" x=\"273.5\" y=\"-547\" font-family=\"monospace\" font-size=\"10.00\">MaxPool2DWithIndicesBackward0</text>\n",
       "</g>\n",
       "<!-- 123961477389792&#45;&gt;123961477389696 -->\n",
       "<g id=\"edge10\" class=\"edge\">\n",
       "<title>123961477389792&#45;&gt;123961477389696</title>\n",
       "<path fill=\"none\" stroke=\"black\" d=\"M297.35,-539.99C325.4,-529.99 372.17,-513.3 403.9,-501.99\"/>\n",
       "<polygon fill=\"black\" stroke=\"black\" points=\"405.38,-505.17 413.62,-498.52 403.03,-498.58 405.38,-505.17\"/>\n",
       "</g>\n",
       "<!-- 123961477390176 -->\n",
       "<g id=\"node13\" class=\"node\">\n",
       "<title>123961477390176</title>\n",
       "<polygon fill=\"lightgrey\" stroke=\"black\" points=\"321,-619.5 226,-619.5 226,-600.5 321,-600.5 321,-619.5\"/>\n",
       "<text text-anchor=\"middle\" x=\"273.5\" y=\"-607.5\" font-family=\"monospace\" font-size=\"10.00\">ReluBackward0</text>\n",
       "</g>\n",
       "<!-- 123961477390176&#45;&gt;123961477389792 -->\n",
       "<g id=\"edge11\" class=\"edge\">\n",
       "<title>123961477390176&#45;&gt;123961477389792</title>\n",
       "<path fill=\"none\" stroke=\"black\" d=\"M273.5,-600.37C273.5,-592.25 273.5,-579.81 273.5,-569.39\"/>\n",
       "<polygon fill=\"black\" stroke=\"black\" points=\"277,-569.17 273.5,-559.17 270,-569.17 277,-569.17\"/>\n",
       "</g>\n",
       "<!-- 123961477390272 -->\n",
       "<g id=\"node14\" class=\"node\">\n",
       "<title>123961477390272</title>\n",
       "<polygon fill=\"lightgrey\" stroke=\"black\" points=\"342,-680 205,-680 205,-661 342,-661 342,-680\"/>\n",
       "<text text-anchor=\"middle\" x=\"273.5\" y=\"-668\" font-family=\"monospace\" font-size=\"10.00\">ConvolutionBackward0</text>\n",
       "</g>\n",
       "<!-- 123961477390272&#45;&gt;123961477390176 -->\n",
       "<g id=\"edge12\" class=\"edge\">\n",
       "<title>123961477390272&#45;&gt;123961477390176</title>\n",
       "<path fill=\"none\" stroke=\"black\" d=\"M273.5,-660.87C273.5,-652.75 273.5,-640.31 273.5,-629.89\"/>\n",
       "<polygon fill=\"black\" stroke=\"black\" points=\"277,-629.67 273.5,-619.67 270,-629.67 277,-629.67\"/>\n",
       "</g>\n",
       "<!-- 123961477390368 -->\n",
       "<g id=\"node15\" class=\"node\">\n",
       "<title>123961477390368</title>\n",
       "<polygon fill=\"lightgrey\" stroke=\"black\" points=\"205,-735 14,-735 14,-716 205,-716 205,-735\"/>\n",
       "<text text-anchor=\"middle\" x=\"109.5\" y=\"-723\" font-family=\"monospace\" font-size=\"10.00\">MaxPool2DWithIndicesBackward0</text>\n",
       "</g>\n",
       "<!-- 123961477390368&#45;&gt;123961477390272 -->\n",
       "<g id=\"edge13\" class=\"edge\">\n",
       "<title>123961477390368&#45;&gt;123961477390272</title>\n",
       "<path fill=\"none\" stroke=\"black\" d=\"M135.85,-715.98C163.26,-707.13 206.39,-693.19 237.06,-683.28\"/>\n",
       "<polygon fill=\"black\" stroke=\"black\" points=\"238.5,-686.49 246.94,-680.08 236.35,-679.83 238.5,-686.49\"/>\n",
       "</g>\n",
       "<!-- 123961477390560 -->\n",
       "<g id=\"node16\" class=\"node\">\n",
       "<title>123961477390560</title>\n",
       "<polygon fill=\"lightgrey\" stroke=\"black\" points=\"157,-795.5 62,-795.5 62,-776.5 157,-776.5 157,-795.5\"/>\n",
       "<text text-anchor=\"middle\" x=\"109.5\" y=\"-783.5\" font-family=\"monospace\" font-size=\"10.00\">ReluBackward0</text>\n",
       "</g>\n",
       "<!-- 123961477390560&#45;&gt;123961477390368 -->\n",
       "<g id=\"edge14\" class=\"edge\">\n",
       "<title>123961477390560&#45;&gt;123961477390368</title>\n",
       "<path fill=\"none\" stroke=\"black\" d=\"M109.5,-776.37C109.5,-768.25 109.5,-755.81 109.5,-745.39\"/>\n",
       "<polygon fill=\"black\" stroke=\"black\" points=\"113,-745.17 109.5,-735.17 106,-745.17 113,-745.17\"/>\n",
       "</g>\n",
       "<!-- 123961477390656 -->\n",
       "<g id=\"node17\" class=\"node\">\n",
       "<title>123961477390656</title>\n",
       "<polygon fill=\"lightgrey\" stroke=\"black\" points=\"178,-856 41,-856 41,-837 178,-837 178,-856\"/>\n",
       "<text text-anchor=\"middle\" x=\"109.5\" y=\"-844\" font-family=\"monospace\" font-size=\"10.00\">ConvolutionBackward0</text>\n",
       "</g>\n",
       "<!-- 123961477390656&#45;&gt;123961477390560 -->\n",
       "<g id=\"edge15\" class=\"edge\">\n",
       "<title>123961477390656&#45;&gt;123961477390560</title>\n",
       "<path fill=\"none\" stroke=\"black\" d=\"M109.5,-836.87C109.5,-828.75 109.5,-816.31 109.5,-805.89\"/>\n",
       "<polygon fill=\"black\" stroke=\"black\" points=\"113,-805.67 109.5,-795.67 106,-805.67 113,-805.67\"/>\n",
       "</g>\n",
       "<!-- 123961477390752 -->\n",
       "<g id=\"node18\" class=\"node\">\n",
       "<title>123961477390752</title>\n",
       "<polygon fill=\"lightgrey\" stroke=\"black\" points=\"101,-911 0,-911 0,-892 101,-892 101,-911\"/>\n",
       "<text text-anchor=\"middle\" x=\"50.5\" y=\"-899\" font-family=\"monospace\" font-size=\"10.00\">AccumulateGrad</text>\n",
       "</g>\n",
       "<!-- 123961477390752&#45;&gt;123961477390656 -->\n",
       "<g id=\"edge16\" class=\"edge\">\n",
       "<title>123961477390752&#45;&gt;123961477390656</title>\n",
       "<path fill=\"none\" stroke=\"black\" d=\"M59.98,-891.98C68.7,-884.15 81.84,-872.34 92.4,-862.86\"/>\n",
       "<polygon fill=\"black\" stroke=\"black\" points=\"94.75,-865.46 99.85,-856.17 90.07,-860.25 94.75,-865.46\"/>\n",
       "</g>\n",
       "<!-- 123961477069232 -->\n",
       "<g id=\"node19\" class=\"node\">\n",
       "<title>123961477069232</title>\n",
       "<polygon fill=\"lightblue\" stroke=\"black\" points=\"101,-977 0,-977 0,-947 101,-947 101,-977\"/>\n",
       "<text text-anchor=\"middle\" x=\"50.5\" y=\"-965\" font-family=\"monospace\" font-size=\"10.00\">conv1.weight</text>\n",
       "<text text-anchor=\"middle\" x=\"50.5\" y=\"-954\" font-family=\"monospace\" font-size=\"10.00\"> (16, 1, 3, 3)</text>\n",
       "</g>\n",
       "<!-- 123961477069232&#45;&gt;123961477390752 -->\n",
       "<g id=\"edge17\" class=\"edge\">\n",
       "<title>123961477069232&#45;&gt;123961477390752</title>\n",
       "<path fill=\"none\" stroke=\"black\" d=\"M50.5,-946.84C50.5,-939.21 50.5,-929.7 50.5,-921.45\"/>\n",
       "<polygon fill=\"black\" stroke=\"black\" points=\"54,-921.27 50.5,-911.27 47,-921.27 54,-921.27\"/>\n",
       "</g>\n",
       "<!-- 123961477390704 -->\n",
       "<g id=\"node20\" class=\"node\">\n",
       "<title>123961477390704</title>\n",
       "<polygon fill=\"lightgrey\" stroke=\"black\" points=\"220,-911 119,-911 119,-892 220,-892 220,-911\"/>\n",
       "<text text-anchor=\"middle\" x=\"169.5\" y=\"-899\" font-family=\"monospace\" font-size=\"10.00\">AccumulateGrad</text>\n",
       "</g>\n",
       "<!-- 123961477390704&#45;&gt;123961477390656 -->\n",
       "<g id=\"edge18\" class=\"edge\">\n",
       "<title>123961477390704&#45;&gt;123961477390656</title>\n",
       "<path fill=\"none\" stroke=\"black\" d=\"M159.86,-891.98C150.99,-884.15 137.63,-872.34 126.89,-862.86\"/>\n",
       "<polygon fill=\"black\" stroke=\"black\" points=\"129.13,-860.17 119.32,-856.17 124.49,-865.41 129.13,-860.17\"/>\n",
       "</g>\n",
       "<!-- 123961477058096 -->\n",
       "<g id=\"node21\" class=\"node\">\n",
       "<title>123961477058096</title>\n",
       "<polygon fill=\"lightblue\" stroke=\"black\" points=\"208,-977 131,-977 131,-947 208,-947 208,-977\"/>\n",
       "<text text-anchor=\"middle\" x=\"169.5\" y=\"-965\" font-family=\"monospace\" font-size=\"10.00\">conv1.bias</text>\n",
       "<text text-anchor=\"middle\" x=\"169.5\" y=\"-954\" font-family=\"monospace\" font-size=\"10.00\"> (16)</text>\n",
       "</g>\n",
       "<!-- 123961477058096&#45;&gt;123961477390704 -->\n",
       "<g id=\"edge19\" class=\"edge\">\n",
       "<title>123961477058096&#45;&gt;123961477390704</title>\n",
       "<path fill=\"none\" stroke=\"black\" d=\"M169.5,-946.84C169.5,-939.21 169.5,-929.7 169.5,-921.45\"/>\n",
       "<polygon fill=\"black\" stroke=\"black\" points=\"173,-921.27 169.5,-911.27 166,-921.27 173,-921.27\"/>\n",
       "</g>\n",
       "<!-- 123961477390320 -->\n",
       "<g id=\"node22\" class=\"node\">\n",
       "<title>123961477390320</title>\n",
       "<polygon fill=\"lightgrey\" stroke=\"black\" points=\"324,-735 223,-735 223,-716 324,-716 324,-735\"/>\n",
       "<text text-anchor=\"middle\" x=\"273.5\" y=\"-723\" font-family=\"monospace\" font-size=\"10.00\">AccumulateGrad</text>\n",
       "</g>\n",
       "<!-- 123961477390320&#45;&gt;123961477390272 -->\n",
       "<g id=\"edge20\" class=\"edge\">\n",
       "<title>123961477390320&#45;&gt;123961477390272</title>\n",
       "<path fill=\"none\" stroke=\"black\" d=\"M273.5,-715.75C273.5,-708.8 273.5,-698.85 273.5,-690.13\"/>\n",
       "<polygon fill=\"black\" stroke=\"black\" points=\"277,-690.09 273.5,-680.09 270,-690.09 277,-690.09\"/>\n",
       "</g>\n",
       "<!-- 123961477066256 -->\n",
       "<g id=\"node23\" class=\"node\">\n",
       "<title>123961477066256</title>\n",
       "<polygon fill=\"lightblue\" stroke=\"black\" points=\"327,-801 220,-801 220,-771 327,-771 327,-801\"/>\n",
       "<text text-anchor=\"middle\" x=\"273.5\" y=\"-789\" font-family=\"monospace\" font-size=\"10.00\">conv2.weight</text>\n",
       "<text text-anchor=\"middle\" x=\"273.5\" y=\"-778\" font-family=\"monospace\" font-size=\"10.00\"> (32, 16, 3, 3)</text>\n",
       "</g>\n",
       "<!-- 123961477066256&#45;&gt;123961477390320 -->\n",
       "<g id=\"edge21\" class=\"edge\">\n",
       "<title>123961477066256&#45;&gt;123961477390320</title>\n",
       "<path fill=\"none\" stroke=\"black\" d=\"M273.5,-770.84C273.5,-763.21 273.5,-753.7 273.5,-745.45\"/>\n",
       "<polygon fill=\"black\" stroke=\"black\" points=\"277,-745.27 273.5,-735.27 270,-745.27 277,-745.27\"/>\n",
       "</g>\n",
       "<!-- 123961477390080 -->\n",
       "<g id=\"node24\" class=\"node\">\n",
       "<title>123961477390080</title>\n",
       "<polygon fill=\"lightgrey\" stroke=\"black\" points=\"443,-735 342,-735 342,-716 443,-716 443,-735\"/>\n",
       "<text text-anchor=\"middle\" x=\"392.5\" y=\"-723\" font-family=\"monospace\" font-size=\"10.00\">AccumulateGrad</text>\n",
       "</g>\n",
       "<!-- 123961477390080&#45;&gt;123961477390272 -->\n",
       "<g id=\"edge22\" class=\"edge\">\n",
       "<title>123961477390080&#45;&gt;123961477390272</title>\n",
       "<path fill=\"none\" stroke=\"black\" d=\"M373.38,-715.98C354.15,-707.42 324.27,-694.11 302.19,-684.28\"/>\n",
       "<polygon fill=\"black\" stroke=\"black\" points=\"303.53,-681.04 292.97,-680.17 300.68,-687.44 303.53,-681.04\"/>\n",
       "</g>\n",
       "<!-- 123961477057616 -->\n",
       "<g id=\"node25\" class=\"node\">\n",
       "<title>123961477057616</title>\n",
       "<polygon fill=\"lightblue\" stroke=\"black\" points=\"431,-801 354,-801 354,-771 431,-771 431,-801\"/>\n",
       "<text text-anchor=\"middle\" x=\"392.5\" y=\"-789\" font-family=\"monospace\" font-size=\"10.00\">conv2.bias</text>\n",
       "<text text-anchor=\"middle\" x=\"392.5\" y=\"-778\" font-family=\"monospace\" font-size=\"10.00\"> (32)</text>\n",
       "</g>\n",
       "<!-- 123961477057616&#45;&gt;123961477390080 -->\n",
       "<g id=\"edge23\" class=\"edge\">\n",
       "<title>123961477057616&#45;&gt;123961477390080</title>\n",
       "<path fill=\"none\" stroke=\"black\" d=\"M392.5,-770.84C392.5,-763.21 392.5,-753.7 392.5,-745.45\"/>\n",
       "<polygon fill=\"black\" stroke=\"black\" points=\"396,-745.27 392.5,-735.27 389,-745.27 396,-745.27\"/>\n",
       "</g>\n",
       "<!-- 123961477389744 -->\n",
       "<g id=\"node26\" class=\"node\">\n",
       "<title>123961477389744</title>\n",
       "<polygon fill=\"lightgrey\" stroke=\"black\" points=\"488,-559 387,-559 387,-540 488,-540 488,-559\"/>\n",
       "<text text-anchor=\"middle\" x=\"437.5\" y=\"-547\" font-family=\"monospace\" font-size=\"10.00\">AccumulateGrad</text>\n",
       "</g>\n",
       "<!-- 123961477389744&#45;&gt;123961477389696 -->\n",
       "<g id=\"edge24\" class=\"edge\">\n",
       "<title>123961477389744&#45;&gt;123961477389696</title>\n",
       "<path fill=\"none\" stroke=\"black\" d=\"M437.5,-539.87C437.5,-531.75 437.5,-519.31 437.5,-508.89\"/>\n",
       "<polygon fill=\"black\" stroke=\"black\" points=\"441,-508.67 437.5,-498.67 434,-508.67 441,-508.67\"/>\n",
       "</g>\n",
       "<!-- 123961477067408 -->\n",
       "<g id=\"node27\" class=\"node\">\n",
       "<title>123961477067408</title>\n",
       "<polygon fill=\"lightblue\" stroke=\"black\" points=\"491,-625 384,-625 384,-595 491,-595 491,-625\"/>\n",
       "<text text-anchor=\"middle\" x=\"437.5\" y=\"-613\" font-family=\"monospace\" font-size=\"10.00\">tconv1.weight</text>\n",
       "<text text-anchor=\"middle\" x=\"437.5\" y=\"-602\" font-family=\"monospace\" font-size=\"10.00\"> (32, 16, 2, 2)</text>\n",
       "</g>\n",
       "<!-- 123961477067408&#45;&gt;123961477389744 -->\n",
       "<g id=\"edge25\" class=\"edge\">\n",
       "<title>123961477067408&#45;&gt;123961477389744</title>\n",
       "<path fill=\"none\" stroke=\"black\" d=\"M437.5,-594.84C437.5,-587.21 437.5,-577.7 437.5,-569.45\"/>\n",
       "<polygon fill=\"black\" stroke=\"black\" points=\"441,-569.27 437.5,-559.27 434,-569.27 441,-569.27\"/>\n",
       "</g>\n",
       "<!-- 123961477389552 -->\n",
       "<g id=\"node28\" class=\"node\">\n",
       "<title>123961477389552</title>\n",
       "<polygon fill=\"lightgrey\" stroke=\"black\" points=\"607,-559 506,-559 506,-540 607,-540 607,-559\"/>\n",
       "<text text-anchor=\"middle\" x=\"556.5\" y=\"-547\" font-family=\"monospace\" font-size=\"10.00\">AccumulateGrad</text>\n",
       "</g>\n",
       "<!-- 123961477389552&#45;&gt;123961477389696 -->\n",
       "<g id=\"edge26\" class=\"edge\">\n",
       "<title>123961477389552&#45;&gt;123961477389696</title>\n",
       "<path fill=\"none\" stroke=\"black\" d=\"M539.2,-539.99C519.45,-530.29 486.95,-514.31 464.01,-503.03\"/>\n",
       "<polygon fill=\"black\" stroke=\"black\" points=\"465.34,-499.79 454.82,-498.52 462.25,-506.07 465.34,-499.79\"/>\n",
       "</g>\n",
       "<!-- 123961477067504 -->\n",
       "<g id=\"node29\" class=\"node\">\n",
       "<title>123961477067504</title>\n",
       "<polygon fill=\"lightblue\" stroke=\"black\" points=\"598,-625 515,-625 515,-595 598,-595 598,-625\"/>\n",
       "<text text-anchor=\"middle\" x=\"556.5\" y=\"-613\" font-family=\"monospace\" font-size=\"10.00\">tconv1.bias</text>\n",
       "<text text-anchor=\"middle\" x=\"556.5\" y=\"-602\" font-family=\"monospace\" font-size=\"10.00\"> (16)</text>\n",
       "</g>\n",
       "<!-- 123961477067504&#45;&gt;123961477389552 -->\n",
       "<g id=\"edge27\" class=\"edge\">\n",
       "<title>123961477067504&#45;&gt;123961477389552</title>\n",
       "<path fill=\"none\" stroke=\"black\" d=\"M556.5,-594.84C556.5,-587.21 556.5,-577.7 556.5,-569.45\"/>\n",
       "<polygon fill=\"black\" stroke=\"black\" points=\"560,-569.27 556.5,-559.27 553,-569.27 560,-569.27\"/>\n",
       "</g>\n",
       "<!-- 123961477387776 -->\n",
       "<g id=\"node30\" class=\"node\">\n",
       "<title>123961477387776</title>\n",
       "<polygon fill=\"lightgrey\" stroke=\"black\" points=\"620,-438 519,-438 519,-419 620,-419 620,-438\"/>\n",
       "<text text-anchor=\"middle\" x=\"569.5\" y=\"-426\" font-family=\"monospace\" font-size=\"10.00\">AccumulateGrad</text>\n",
       "</g>\n",
       "<!-- 123961477387776&#45;&gt;123961477387632 -->\n",
       "<g id=\"edge28\" class=\"edge\">\n",
       "<title>123961477387776&#45;&gt;123961477387632</title>\n",
       "<path fill=\"none\" stroke=\"black\" d=\"M569.5,-418.87C569.5,-410.75 569.5,-398.31 569.5,-387.89\"/>\n",
       "<polygon fill=\"black\" stroke=\"black\" points=\"573,-387.67 569.5,-377.67 566,-387.67 573,-387.67\"/>\n",
       "</g>\n",
       "<!-- 123961477057904 -->\n",
       "<g id=\"node31\" class=\"node\">\n",
       "<title>123961477057904</title>\n",
       "<polygon fill=\"lightblue\" stroke=\"black\" points=\"625,-504 524,-504 524,-474 625,-474 625,-504\"/>\n",
       "<text text-anchor=\"middle\" x=\"574.5\" y=\"-492\" font-family=\"monospace\" font-size=\"10.00\">tconv2.weight</text>\n",
       "<text text-anchor=\"middle\" x=\"574.5\" y=\"-481\" font-family=\"monospace\" font-size=\"10.00\"> (16, 1, 2, 2)</text>\n",
       "</g>\n",
       "<!-- 123961477057904&#45;&gt;123961477387776 -->\n",
       "<g id=\"edge29\" class=\"edge\">\n",
       "<title>123961477057904&#45;&gt;123961477387776</title>\n",
       "<path fill=\"none\" stroke=\"black\" d=\"M573.29,-473.84C572.64,-466.21 571.83,-456.7 571.12,-448.45\"/>\n",
       "<polygon fill=\"black\" stroke=\"black\" points=\"574.59,-447.93 570.25,-438.27 567.61,-448.53 574.59,-447.93\"/>\n",
       "</g>\n",
       "<!-- 123961477389504 -->\n",
       "<g id=\"node32\" class=\"node\">\n",
       "<title>123961477389504</title>\n",
       "<polygon fill=\"lightgrey\" stroke=\"black\" points=\"739,-438 638,-438 638,-419 739,-419 739,-438\"/>\n",
       "<text text-anchor=\"middle\" x=\"688.5\" y=\"-426\" font-family=\"monospace\" font-size=\"10.00\">AccumulateGrad</text>\n",
       "</g>\n",
       "<!-- 123961477389504&#45;&gt;123961477387632 -->\n",
       "<g id=\"edge30\" class=\"edge\">\n",
       "<title>123961477389504&#45;&gt;123961477387632</title>\n",
       "<path fill=\"none\" stroke=\"black\" d=\"M671.2,-418.99C651.45,-409.29 618.95,-393.31 596.01,-382.03\"/>\n",
       "<polygon fill=\"black\" stroke=\"black\" points=\"597.34,-378.79 586.82,-377.52 594.25,-385.07 597.34,-378.79\"/>\n",
       "</g>\n",
       "<!-- 123961477069040 -->\n",
       "<g id=\"node33\" class=\"node\">\n",
       "<title>123961477069040</title>\n",
       "<polygon fill=\"lightblue\" stroke=\"black\" points=\"730,-504 647,-504 647,-474 730,-474 730,-504\"/>\n",
       "<text text-anchor=\"middle\" x=\"688.5\" y=\"-492\" font-family=\"monospace\" font-size=\"10.00\">tconv2.bias</text>\n",
       "<text text-anchor=\"middle\" x=\"688.5\" y=\"-481\" font-family=\"monospace\" font-size=\"10.00\"> (1)</text>\n",
       "</g>\n",
       "<!-- 123961477069040&#45;&gt;123961477389504 -->\n",
       "<g id=\"edge31\" class=\"edge\">\n",
       "<title>123961477069040&#45;&gt;123961477389504</title>\n",
       "<path fill=\"none\" stroke=\"black\" d=\"M688.5,-473.84C688.5,-466.21 688.5,-456.7 688.5,-448.45\"/>\n",
       "<polygon fill=\"black\" stroke=\"black\" points=\"692,-448.27 688.5,-438.27 685,-448.27 692,-448.27\"/>\n",
       "</g>\n",
       "<!-- 123961477389936 -->\n",
       "<g id=\"node34\" class=\"node\">\n",
       "<title>123961477389936</title>\n",
       "<polygon fill=\"lightgrey\" stroke=\"black\" points=\"733,-251 656,-251 656,-232 733,-232 733,-251\"/>\n",
       "<text text-anchor=\"middle\" x=\"694.5\" y=\"-239\" font-family=\"monospace\" font-size=\"10.00\">TBackward0</text>\n",
       "</g>\n",
       "<!-- 123961477389936&#45;&gt;123961477389984 -->\n",
       "<g id=\"edge32\" class=\"edge\">\n",
       "<title>123961477389936&#45;&gt;123961477389984</title>\n",
       "<path fill=\"none\" stroke=\"black\" d=\"M677.47,-231.98C660.57,-223.54 634.44,-210.47 614.86,-200.68\"/>\n",
       "<polygon fill=\"black\" stroke=\"black\" points=\"616.35,-197.51 605.84,-196.17 613.22,-203.77 616.35,-197.51\"/>\n",
       "</g>\n",
       "<!-- 123961477387488 -->\n",
       "<g id=\"node35\" class=\"node\">\n",
       "<title>123961477387488</title>\n",
       "<polygon fill=\"lightgrey\" stroke=\"black\" points=\"745,-311.5 644,-311.5 644,-292.5 745,-292.5 745,-311.5\"/>\n",
       "<text text-anchor=\"middle\" x=\"694.5\" y=\"-299.5\" font-family=\"monospace\" font-size=\"10.00\">AccumulateGrad</text>\n",
       "</g>\n",
       "<!-- 123961477387488&#45;&gt;123961477389936 -->\n",
       "<g id=\"edge33\" class=\"edge\">\n",
       "<title>123961477387488&#45;&gt;123961477389936</title>\n",
       "<path fill=\"none\" stroke=\"black\" d=\"M694.5,-292.37C694.5,-284.25 694.5,-271.81 694.5,-261.39\"/>\n",
       "<polygon fill=\"black\" stroke=\"black\" points=\"698,-261.17 694.5,-251.17 691,-261.17 698,-261.17\"/>\n",
       "</g>\n",
       "<!-- 123961477058480 -->\n",
       "<g id=\"node36\" class=\"node\">\n",
       "<title>123961477058480</title>\n",
       "<polygon fill=\"lightblue\" stroke=\"black\" points=\"733,-383 656,-383 656,-353 733,-353 733,-383\"/>\n",
       "<text text-anchor=\"middle\" x=\"694.5\" y=\"-371\" font-family=\"monospace\" font-size=\"10.00\">fc.weight</text>\n",
       "<text text-anchor=\"middle\" x=\"694.5\" y=\"-360\" font-family=\"monospace\" font-size=\"10.00\"> (10, 784)</text>\n",
       "</g>\n",
       "<!-- 123961477058480&#45;&gt;123961477387488 -->\n",
       "<g id=\"edge34\" class=\"edge\">\n",
       "<title>123961477058480&#45;&gt;123961477387488</title>\n",
       "<path fill=\"none\" stroke=\"black\" d=\"M694.5,-352.8C694.5,-343.7 694.5,-331.79 694.5,-321.9\"/>\n",
       "<polygon fill=\"black\" stroke=\"black\" points=\"698,-321.84 694.5,-311.84 691,-321.84 698,-321.84\"/>\n",
       "</g>\n",
       "</g>\n",
       "</svg>\n"
      ],
      "text/plain": [
       "<graphviz.graphs.Digraph at 0x70be04d75e90>"
      ]
     },
     "execution_count": 32,
     "metadata": {},
     "output_type": "execute_result"
    }
   ],
   "source": [
    "make_dot(loss, params=dict(model.named_parameters()))"
   ]
  },
  {
   "cell_type": "code",
   "execution_count": null,
   "id": "624fc1a5-6685-447d-9d93-639f7bf5d6c5",
   "metadata": {},
   "outputs": [],
   "source": []
  }
 ],
 "metadata": {
  "kernelspec": {
   "display_name": "Python 3 (ipykernel)",
   "language": "python",
   "name": "python3"
  },
  "language_info": {
   "codemirror_mode": {
    "name": "ipython",
    "version": 3
   },
   "file_extension": ".py",
   "mimetype": "text/x-python",
   "name": "python",
   "nbconvert_exporter": "python",
   "pygments_lexer": "ipython3",
   "version": "3.11.10"
  }
 },
 "nbformat": 4,
 "nbformat_minor": 5
}
